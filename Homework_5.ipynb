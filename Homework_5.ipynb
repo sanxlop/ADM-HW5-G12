{
 "cells": [
  {
   "cell_type": "markdown",
   "metadata": {},
   "source": [
    "# Import libraries"
   ]
  },
  {
   "cell_type": "code",
   "execution_count": 1,
   "metadata": {},
   "outputs": [],
   "source": [
    "# Import libgraph library containing all functions created\n",
    "import libgraph\n",
    "from importlib import reload\n",
    "reload(libgraph)\n",
    "\n",
    "# Import external libraries to compute the dataset\n",
    "import networkx as nx\n",
    "import pandas as pd\n",
    "import statistics\n",
    "import collections\n",
    "import timeit\n",
    "\n",
    "# Printing \n",
    "class color:\n",
    "    BOLD = '\\033[1m'\n",
    "    UNDERLINE = '\\033[4m'\n",
    "    END = '\\033[0m'"
   ]
  },
  {
   "cell_type": "markdown",
   "metadata": {},
   "source": [
    "# Reading data"
   ]
  },
  {
   "cell_type": "markdown",
   "metadata": {},
   "source": [
    "In this section we are reading every file for the following sections"
   ]
  },
  {
   "cell_type": "markdown",
   "metadata": {},
   "source": [
    "### Reading reduced edges file"
   ]
  },
  {
   "cell_type": "code",
   "execution_count": 2,
   "metadata": {},
   "outputs": [],
   "source": [
    "# Variable containing 'wiki-topcats-reduced.txt'\n",
    "reduced = pd.read_csv('wiki-topcats-reduced.txt', names=['source', 'destination'], sep='\\t')"
   ]
  },
  {
   "cell_type": "code",
   "execution_count": 3,
   "metadata": {},
   "outputs": [
    {
     "data": {
      "text/html": [
       "<div>\n",
       "<style scoped>\n",
       "    .dataframe tbody tr th:only-of-type {\n",
       "        vertical-align: middle;\n",
       "    }\n",
       "\n",
       "    .dataframe tbody tr th {\n",
       "        vertical-align: top;\n",
       "    }\n",
       "\n",
       "    .dataframe thead th {\n",
       "        text-align: right;\n",
       "    }\n",
       "</style>\n",
       "<table border=\"1\" class=\"dataframe\">\n",
       "  <thead>\n",
       "    <tr style=\"text-align: right;\">\n",
       "      <th></th>\n",
       "      <th>source</th>\n",
       "      <th>destination</th>\n",
       "    </tr>\n",
       "  </thead>\n",
       "  <tbody>\n",
       "    <tr>\n",
       "      <th>0</th>\n",
       "      <td>52</td>\n",
       "      <td>401135</td>\n",
       "    </tr>\n",
       "    <tr>\n",
       "      <th>1</th>\n",
       "      <td>52</td>\n",
       "      <td>1069112</td>\n",
       "    </tr>\n",
       "    <tr>\n",
       "      <th>2</th>\n",
       "      <td>52</td>\n",
       "      <td>1163551</td>\n",
       "    </tr>\n",
       "    <tr>\n",
       "      <th>3</th>\n",
       "      <td>62</td>\n",
       "      <td>12162</td>\n",
       "    </tr>\n",
       "    <tr>\n",
       "      <th>4</th>\n",
       "      <td>62</td>\n",
       "      <td>167659</td>\n",
       "    </tr>\n",
       "  </tbody>\n",
       "</table>\n",
       "</div>"
      ],
      "text/plain": [
       "   source  destination\n",
       "0      52       401135\n",
       "1      52      1069112\n",
       "2      52      1163551\n",
       "3      62        12162\n",
       "4      62       167659"
      ]
     },
     "execution_count": 3,
     "metadata": {},
     "output_type": "execute_result"
    }
   ],
   "source": [
    "# See the head of the file\n",
    "reduced.head()"
   ]
  },
  {
   "cell_type": "code",
   "execution_count": 4,
   "metadata": {},
   "outputs": [
    {
     "name": "stdout",
     "output_type": "stream",
     "text": [
      "Number of edges: 2645247\n"
     ]
    }
   ],
   "source": [
    "# Number of edges\n",
    "print('Number of edges:', len(reduced)) "
   ]
  },
  {
   "cell_type": "code",
   "execution_count": 5,
   "metadata": {},
   "outputs": [],
   "source": [
    "# Set unique total nodes in reduced\n",
    "set_nodes = set([*list(reduced['source']), *list(reduced['destination'])]) "
   ]
  },
  {
   "cell_type": "code",
   "execution_count": 6,
   "metadata": {},
   "outputs": [
    {
     "name": "stdout",
     "output_type": "stream",
     "text": [
      "Number of nodes: 461193\n"
     ]
    }
   ],
   "source": [
    "# Number of nodes\n",
    "print('Number of nodes:', len(set_nodes)) "
   ]
  },
  {
   "cell_type": "markdown",
   "metadata": {},
   "source": [
    "### Reading page names file"
   ]
  },
  {
   "cell_type": "code",
   "execution_count": 7,
   "metadata": {
    "scrolled": false
   },
   "outputs": [],
   "source": [
    "# Variable containing 'wiki-topcats-page-names.txt'\n",
    "names_list = libgraph.read_names_list('wiki-topcats-page-names.txt')"
   ]
  },
  {
   "cell_type": "code",
   "execution_count": 8,
   "metadata": {},
   "outputs": [
    {
     "name": "stdout",
     "output_type": "stream",
     "text": [
      "Chiasmal syndrome; Kleroterion; Pinakion; LyndonHochschildSerre spectral sequence; Zariski's main theorem\n"
     ]
    }
   ],
   "source": [
    "# Print some results of the readed file\n",
    "print(*names_list[0:5], sep=\"; \")"
   ]
  },
  {
   "cell_type": "code",
   "execution_count": 9,
   "metadata": {},
   "outputs": [
    {
     "name": "stdout",
     "output_type": "stream",
     "text": [
      "1791489\n"
     ]
    }
   ],
   "source": [
    "# See number of names in the list\n",
    "print(len(names_list))"
   ]
  },
  {
   "cell_type": "markdown",
   "metadata": {},
   "source": [
    "### Reading categories file"
   ]
  },
  {
   "cell_type": "markdown",
   "metadata": {},
   "source": [
    "In this step, we are reading categories dictionary keeping only categories with more than 3500 nodes and with nodes contained in the reduced edges file"
   ]
  },
  {
   "cell_type": "code",
   "execution_count": 10,
   "metadata": {},
   "outputs": [],
   "source": [
    "# Variable containing 'wiki-topcats-categories.txt'\n",
    "categories = libgraph.read_categories_list('wiki-topcats-categories.txt')"
   ]
  },
  {
   "cell_type": "code",
   "execution_count": 11,
   "metadata": {
    "scrolled": false
   },
   "outputs": [
    {
     "name": "stdout",
     "output_type": "stream",
     "text": [
      "('English_footballers', 9237) ('The_Football_League_players', 9467) ('Association_football_forwards', 6959) ('Association_football_goalkeepers', 3997) ('Association_football_midfielders', 8270) ('Association_football_defenders', 6668) ('Living_people', 418223) ('Year_of_birth_unknown', 3760) ('Harvard_University_alumni', 6154) ('Major_League_Baseball_pitchers', 6580) ('Members_of_the_United_Kingdom_Parliament_for_English_constituencies', 6546) ('Indian_films', 5913) ('Year_of_death_missing', 7851) ('English_cricketers', 3813) ('Year_of_birth_missing_(living_people)', 34721) ('Rivers_of_Romania', 7729) ('Main_Belt_asteroids', 13704) ('Asteroids_named_for_people', 5701) ('English-language_albums', 4853) ('English_television_actors', 3501) ('British_films', 4551) ('English-language_films', 22699) ('American_films', 15302) ('Fellows_of_the_Royal_Society', 3697) ('People_from_New_York_City', 4888) ('American_Jews', 3542) ('American_television_actors', 11661) ('American_film_actors', 13938) ('Debut_albums', 8401) ('Black-and-white_films', 12174) ('Year_of_birth_missing', 7237) ('Place_of_birth_missing_(living_people)', 6767) ('Article_Feedback_Pilot', 3588) ('American_military_personnel_of_World_War_II', 4040) ('Windows_games', 4517)\n"
     ]
    }
   ],
   "source": [
    "# Variable containing the length of each category\n",
    "length_categories = {key: len(value) for key, value in categories.items()}\n",
    "# Print categories keys and length of the contained list\n",
    "print(*length_categories.items())\n",
    "# Delete variable because is not used anymore\n",
    "del length_categories"
   ]
  },
  {
   "cell_type": "code",
   "execution_count": 12,
   "metadata": {},
   "outputs": [
    {
     "name": "stdout",
     "output_type": "stream",
     "text": [
      "Number of categories: 35\n"
     ]
    }
   ],
   "source": [
    "# Print number of categories\n",
    "print(\"Number of categories:\", len(categories.keys()))"
   ]
  },
  {
   "cell_type": "markdown",
   "metadata": {},
   "source": [
    "Now we have to intersect the dictionary of categories with the set of nodes in reduced file:"
   ]
  },
  {
   "cell_type": "code",
   "execution_count": 13,
   "metadata": {},
   "outputs": [],
   "source": [
    "# Intersect categories and set_nodes of reduced\n",
    "categories_reduced = libgraph.intersect_categories_reduced(categories, set_nodes)"
   ]
  },
  {
   "cell_type": "code",
   "execution_count": 14,
   "metadata": {
    "scrolled": true
   },
   "outputs": [
    {
     "name": "stdout",
     "output_type": "stream",
     "text": [
      "('English_footballers', 7538) ('The_Football_League_players', 7814) ('Association_football_forwards', 5097) ('Association_football_goalkeepers', 3737) ('Association_football_midfielders', 5827) ('Association_football_defenders', 4588) ('Living_people', 348300) ('Harvard_University_alumni', 5549) ('Major_League_Baseball_pitchers', 5192) ('Members_of_the_United_Kingdom_Parliament_for_English_constituencies', 6491) ('Indian_films', 5568) ('Year_of_death_missing', 4122) ('Year_of_birth_missing_(living_people)', 28498) ('Rivers_of_Romania', 7729) ('Main_Belt_asteroids', 11660) ('Asteroids_named_for_people', 4895) ('English-language_albums', 4760) ('British_films', 4422) ('English-language_films', 22463) ('American_films', 15159) ('People_from_New_York_City', 4614) ('American_television_actors', 11531) ('American_film_actors', 13865) ('Debut_albums', 7561) ('Black-and-white_films', 10759) ('Year_of_birth_missing', 4346) ('Place_of_birth_missing_(living_people)', 5532) ('American_military_personnel_of_World_War_II', 3720) ('Windows_games', 4025)\n"
     ]
    }
   ],
   "source": [
    "# Variable containing the length of each category\n",
    "length_categories_reduced = {key: len(value) for key, value in categories_reduced.items()}\n",
    "# Print categories keys and length of the contained list\n",
    "print(*length_categories_reduced.items())\n",
    "# Delete variable because is not used anymore\n",
    "del length_categories_reduced, categories"
   ]
  },
  {
   "cell_type": "code",
   "execution_count": 15,
   "metadata": {},
   "outputs": [
    {
     "name": "stdout",
     "output_type": "stream",
     "text": [
      "Number of categories_reduced: 29\n"
     ]
    }
   ],
   "source": [
    "print(\"Number of categories_reduced:\", len(categories_reduced.keys()))"
   ]
  },
  {
   "cell_type": "markdown",
   "metadata": {},
   "source": [
    "# [RQ1] Build the graph\n",
    "\n",
    "In this RQ we are going to build the graph G=(V, E), where V is the set of articles and E the hyperlinks among them. For this RQ we are using networkx library.\n",
    "\n",
    "As we have seen before, in top_cats_reduced we have directional edges, and not every node goes both ways so we are going to build a directed graph."
   ]
  },
  {
   "cell_type": "markdown",
   "metadata": {},
   "source": [
    "We are going to create a graph inserting the nodes and then the edges:"
   ]
  },
  {
   "cell_type": "code",
   "execution_count": 16,
   "metadata": {},
   "outputs": [],
   "source": [
    "# Create a directed Graph\n",
    "Gdir = nx.DiGraph()\n",
    "# Insert Nodes\n",
    "Gdir.add_nodes_from(set_nodes)\n",
    "# Add Edges\n",
    "tuples_source_destination = [tuple(x) for x in reduced.values] # List of tuples of source destination\n",
    "Gdir.add_edges_from(tuples_source_destination)\n",
    "# Delete variable because is not used anymore\n",
    "del tuples_source_destination, reduced, set_nodes"
   ]
  },
  {
   "cell_type": "markdown",
   "metadata": {},
   "source": [
    "Let's see the resulting graph and analize it:\n",
    "- Print info of the graph\n",
    "- Compute density"
   ]
  },
  {
   "cell_type": "code",
   "execution_count": 17,
   "metadata": {},
   "outputs": [
    {
     "name": "stdout",
     "output_type": "stream",
     "text": [
      "Name: \n",
      "Type: DiGraph\n",
      "Number of nodes: 461193\n",
      "Number of edges: 2645247\n",
      "Average in degree:   5.7357\n",
      "Average out degree:   5.7357\n"
     ]
    }
   ],
   "source": [
    "# Print info of the directed graph\n",
    "print(nx.info(Gdir))"
   ]
  },
  {
   "cell_type": "code",
   "execution_count": 18,
   "metadata": {},
   "outputs": [
    {
     "name": "stdout",
     "output_type": "stream",
     "text": [
      "Density of the graph: 1.2436602635647606e-05\n"
     ]
    }
   ],
   "source": [
    "# Print density\n",
    "print('Density of the graph:',nx.density(Gdir))"
   ]
  },
  {
   "cell_type": "markdown",
   "metadata": {},
   "source": [
    "### Summary graph results:\n",
    "\n",
    "- It is a **DIRECTED graph** because the edges given are source-destination\n",
    "- The number of nodes: **461,193**\n",
    "- The number of edges: **2,645,247**\n",
    "- The average node degree: **Average in degree:   5.7357 | Average out degree:   5.7357** Each node has on average 5.7 nodes in and 5.7 nodes out\n",
    "- Is the graph dense?: **density = 1.24e-05** The density is 0 for a graph without edges and 1 for a complete graph. So it is not dense."
   ]
  },
  {
   "cell_type": "markdown",
   "metadata": {},
   "source": [
    "# [RQ2] Block Ranking"
   ]
  },
  {
   "cell_type": "markdown",
   "metadata": {},
   "source": [
    "In this RQ we are going to obtain a block-ranking, where the blocks are represented by the categories. In particular, we want: **block_ranking = [C0, C1, C2...] and their score**. Each category corresponds to a list of nodes.\n",
    "\n",
    "To order block ranking we are using this algorithm:\n",
    "**distance(Co, Ci) = median(ShortestPath(Co, Ci))**"
   ]
  },
  {
   "cell_type": "markdown",
   "metadata": {},
   "source": [
    "## -- 2.0) Test speed and reliability of ShortestPath algorithms [THIS PART IS NOT ASKED] --"
   ]
  },
  {
   "cell_type": "markdown",
   "metadata": {},
   "source": [
    "First of all we are going to create an algorithm to compute shortest path between edges. We have made 2 algorithms and we are comparing results and speed with networkx implementation. So we are running the same test to compute the shortest_path_length between 2 categories:\n",
    "\n",
    "- source_category = 'English_footballers' (taking X nodes of this category)\n",
    "- target_category = 'The_Football_League_players' (taking all nodes of category)\n",
    "\n",
    "Tests description:\n",
    "\n",
    "- **Test 1** --> Using shortest path function from networkx\n",
    "- **Test 2** --> Using shortest path function implemented by me\n",
    "- **Test 3** --> Using the other shortest path function implemented by me"
   ]
  },
  {
   "cell_type": "code",
   "execution_count": 19,
   "metadata": {},
   "outputs": [],
   "source": [
    "# Variable containing adjency dictionary of the directed graph\n",
    "dic_adj = dict(Gdir.adjacency())"
   ]
  },
  {
   "cell_type": "markdown",
   "metadata": {},
   "source": [
    "### -- Test 1 (using networkX algorithm) --\n",
    "We are testing **nx.shortest_path_length** algorithm from networkx library"
   ]
  },
  {
   "cell_type": "code",
   "execution_count": 20,
   "metadata": {},
   "outputs": [],
   "source": [
    "#Number of nodes of C0 taking for running each test\n",
    "n_C0_nodes = 100"
   ]
  },
  {
   "cell_type": "code",
   "execution_count": 21,
   "metadata": {},
   "outputs": [
    {
     "name": "stdout",
     "output_type": "stream",
     "text": [
      "Number of shortest path computed: 391744\n",
      "Median: 5.0\n",
      "Execution time: 99.64 s\n"
     ]
    }
   ],
   "source": [
    "# Function for timing test_1_networkx\n",
    "def test_1_networkx():\n",
    "    CxCy = []\n",
    "    # Input category to make block ranking\n",
    "    source_category = 'English_footballers'\n",
    "    target_category = 'The_Football_League_players'\n",
    "    # List of nodes in each category\n",
    "    C0 = list(categories_reduced.get(source_category)) #C0\n",
    "    CI = set(categories_reduced.get(target_category)) #C1\n",
    "    # Run algorithm\n",
    "    for s_value in C0[:n_C0_nodes]:\n",
    "        for t_value in CI:\n",
    "            try: CxCy.append(nx.shortest_path_length(Gdir, source=s_value, target=t_value))\n",
    "            except: pass\n",
    "\n",
    "    print(\"Number of shortest path computed:\", len(CxCy))\n",
    "    print(\"Median:\", statistics.median(CxCy))\n",
    "    return statistics.median(CxCy)\n",
    "\n",
    "# Run speed and reliability test\n",
    "print('Execution time:', round(timeit.timeit(test_1_networkx, number = 1),2), 's')"
   ]
  },
  {
   "cell_type": "markdown",
   "metadata": {},
   "source": [
    "### -- Test 2 (using own implementation algorithm) --\n",
    "We are testing **libgraph.shortest_path_bfs_list** algorithm developed"
   ]
  },
  {
   "cell_type": "code",
   "execution_count": 22,
   "metadata": {},
   "outputs": [
    {
     "name": "stdout",
     "output_type": "stream",
     "text": [
      "Number of shortest path computed: 391744\n",
      "Median: 5.0\n",
      "Execution time: 72.75 s\n"
     ]
    }
   ],
   "source": [
    "# Function for timing test_2_spbl\n",
    "def test_2_spbl():\n",
    "    CxCy = []\n",
    "    # Input category to make block ranking\n",
    "    source_category = 'English_footballers'\n",
    "    target_category = 'The_Football_League_players'\n",
    "    # List of nodes in each category\n",
    "    C0 = list(categories_reduced.get(source_category)) #C0\n",
    "    CI = set(categories_reduced.get(target_category)) #C1\n",
    "    # Run algorithm\n",
    "    for s_value in C0[:n_C0_nodes]:\n",
    "        CxCy.extend(libgraph.shortest_path_bfs_list(dic_adj, s_value, CI))\n",
    "\n",
    "    print(\"Number of shortest path computed:\", len(CxCy))\n",
    "    print(\"Median:\", statistics.median(CxCy))\n",
    "    return statistics.median(CxCy)\n",
    "\n",
    "# Run speed and reliability test\n",
    "print('Execution time:', round(timeit.timeit(test_2_spbl, number = 1),2), 's')"
   ]
  },
  {
   "cell_type": "markdown",
   "metadata": {},
   "source": [
    "### -- Test 3 (using other own implementation algorithm) --\n",
    "We are testing **libgraph.shortest_path_bfs_list_list** algorithm developed"
   ]
  },
  {
   "cell_type": "code",
   "execution_count": 23,
   "metadata": {},
   "outputs": [
    {
     "name": "stdout",
     "output_type": "stream",
     "text": [
      "Number of shortest path computed: 391744\n",
      "Median: 5.0\n",
      "Execution time: 117.93 s\n"
     ]
    }
   ],
   "source": [
    "# Function for timing test_3_spbll\n",
    "def test_3_spbll():\n",
    "    CxCy = []\n",
    "    # Input category to make block ranking\n",
    "    source_category = 'English_footballers'\n",
    "    target_category = 'The_Football_League_players'\n",
    "    # List of nodes in each category\n",
    "    C0 = list(categories_reduced.get(source_category)) #C0\n",
    "    CI = set(categories_reduced.get(target_category)) #C1\n",
    "    # Run algorithm\n",
    "    CxCy.extend(libgraph.shortest_path_bfs_list_list(dic_adj, set(C0[:n_C0_nodes]), CI))\n",
    "\n",
    "    print(\"Number of shortest path computed:\", len(CxCy))\n",
    "    print(\"Median:\", statistics.median(CxCy))\n",
    "    return statistics.median(CxCy)\n",
    "\n",
    "# Run speed and reliability test\n",
    "print('Execution time:', round(timeit.timeit(test_3_spbll, number = 1),2), 's')"
   ]
  },
  {
   "cell_type": "markdown",
   "metadata": {},
   "source": [
    "### -- Testing results: --\n",
    "\n",
    "As we can see we have obtained same results in the three test taking **100 nodes in C0** and **all nodes in CI**. But comparing speed we have that:\n",
    "\n",
    "- Test 1 (networkx algorithm): 99.64 s\n",
    "- **Test 2 (shortest_path_bfs_list): 72.75 s**\n",
    "- Test 3 (shortest_path_bfs_list_list): 117.93 s\n",
    "\n",
    "So from now on we are using **shortest_path_bfs_list** algorithm developed."
   ]
  },
  {
   "cell_type": "markdown",
   "metadata": {},
   "source": [
    "## 2.1) Building Block_Ranking\n",
    "Now we are going to build block ranking using our own implementation of shortest path algorithm based in test 2. We are going to compare **50 nodes of C0 with all nodes in CI** to build the block ranking. With our algorithm it will take approximately 27 hours to compute for all nodes."
   ]
  },
  {
   "cell_type": "code",
   "execution_count": 24,
   "metadata": {},
   "outputs": [
    {
     "name": "stdout",
     "output_type": "stream",
     "text": [
      "English_footballers; The_Football_League_players; Association_football_forwards; Association_football_goalkeepers; Association_football_midfielders; Association_football_defenders; Living_people; Harvard_University_alumni; Major_League_Baseball_pitchers; Members_of_the_United_Kingdom_Parliament_for_English_constituencies; Indian_films; Year_of_death_missing; Year_of_birth_missing_(living_people); Rivers_of_Romania; Main_Belt_asteroids; Asteroids_named_for_people; English-language_albums; British_films; English-language_films; American_films; People_from_New_York_City; American_television_actors; American_film_actors; Debut_albums; Black-and-white_films; Year_of_birth_missing; Place_of_birth_missing_(living_people); American_military_personnel_of_World_War_II; Windows_games; "
     ]
    }
   ],
   "source": [
    "# Variable containing adjency dictionary of the directed graph\n",
    "dic_adj = dict(Gdir.adjacency())\n",
    "# Number of nodes of CO to compute the block ranking\n",
    "n_C0_nodes = 50\n",
    "# Name of CO category\n",
    "C0 = 'English_footballers'\n",
    "\n",
    "# Initiate block_ranking\n",
    "block_ranking = [(0, C0)]\n",
    "# Compute block ranking for all categories in categories_reduced\n",
    "for cat in categories_reduced.keys():\n",
    "    print(cat, end=\"; \") # Just to see which category is being proccessed\n",
    "    if cat != C0:\n",
    "        block_ranking.append((libgraph.distance(dic_adj, categories_reduced, C0, cat, n_C0_nodes), cat))\n",
    "        \n",
    "# Sort the block ranking by the score obtained\n",
    "block_ranking.sort()\n",
    "# Create pandas data frame to manipulate block ranking\n",
    "pd_block_ranking = pd.DataFrame(block_ranking, columns=['Score','Category'])"
   ]
  },
  {
   "cell_type": "code",
   "execution_count": 25,
   "metadata": {},
   "outputs": [
    {
     "data": {
      "text/html": [
       "<div>\n",
       "<style scoped>\n",
       "    .dataframe tbody tr th:only-of-type {\n",
       "        vertical-align: middle;\n",
       "    }\n",
       "\n",
       "    .dataframe tbody tr th {\n",
       "        vertical-align: top;\n",
       "    }\n",
       "\n",
       "    .dataframe thead th {\n",
       "        text-align: right;\n",
       "    }\n",
       "</style>\n",
       "<table border=\"1\" class=\"dataframe\">\n",
       "  <thead>\n",
       "    <tr style=\"text-align: right;\">\n",
       "      <th></th>\n",
       "      <th>Score</th>\n",
       "      <th>Category</th>\n",
       "    </tr>\n",
       "  </thead>\n",
       "  <tbody>\n",
       "    <tr>\n",
       "      <th>0</th>\n",
       "      <td>0.0</td>\n",
       "      <td>English_footballers</td>\n",
       "    </tr>\n",
       "    <tr>\n",
       "      <th>1</th>\n",
       "      <td>5.0</td>\n",
       "      <td>The_Football_League_players</td>\n",
       "    </tr>\n",
       "    <tr>\n",
       "      <th>2</th>\n",
       "      <td>6.0</td>\n",
       "      <td>American_film_actors</td>\n",
       "    </tr>\n",
       "    <tr>\n",
       "      <th>3</th>\n",
       "      <td>6.0</td>\n",
       "      <td>American_films</td>\n",
       "    </tr>\n",
       "    <tr>\n",
       "      <th>4</th>\n",
       "      <td>6.0</td>\n",
       "      <td>American_military_personnel_of_World_War_II</td>\n",
       "    </tr>\n",
       "    <tr>\n",
       "      <th>5</th>\n",
       "      <td>6.0</td>\n",
       "      <td>American_television_actors</td>\n",
       "    </tr>\n",
       "    <tr>\n",
       "      <th>6</th>\n",
       "      <td>6.0</td>\n",
       "      <td>Association_football_defenders</td>\n",
       "    </tr>\n",
       "    <tr>\n",
       "      <th>7</th>\n",
       "      <td>6.0</td>\n",
       "      <td>Association_football_forwards</td>\n",
       "    </tr>\n",
       "    <tr>\n",
       "      <th>8</th>\n",
       "      <td>6.0</td>\n",
       "      <td>Association_football_goalkeepers</td>\n",
       "    </tr>\n",
       "    <tr>\n",
       "      <th>9</th>\n",
       "      <td>6.0</td>\n",
       "      <td>Association_football_midfielders</td>\n",
       "    </tr>\n",
       "    <tr>\n",
       "      <th>10</th>\n",
       "      <td>6.0</td>\n",
       "      <td>British_films</td>\n",
       "    </tr>\n",
       "    <tr>\n",
       "      <th>11</th>\n",
       "      <td>6.0</td>\n",
       "      <td>English-language_films</td>\n",
       "    </tr>\n",
       "    <tr>\n",
       "      <th>12</th>\n",
       "      <td>6.0</td>\n",
       "      <td>People_from_New_York_City</td>\n",
       "    </tr>\n",
       "    <tr>\n",
       "      <th>13</th>\n",
       "      <td>7.0</td>\n",
       "      <td>Black-and-white_films</td>\n",
       "    </tr>\n",
       "    <tr>\n",
       "      <th>14</th>\n",
       "      <td>7.0</td>\n",
       "      <td>Debut_albums</td>\n",
       "    </tr>\n",
       "    <tr>\n",
       "      <th>15</th>\n",
       "      <td>7.0</td>\n",
       "      <td>English-language_albums</td>\n",
       "    </tr>\n",
       "    <tr>\n",
       "      <th>16</th>\n",
       "      <td>7.0</td>\n",
       "      <td>Harvard_University_alumni</td>\n",
       "    </tr>\n",
       "    <tr>\n",
       "      <th>17</th>\n",
       "      <td>7.0</td>\n",
       "      <td>Indian_films</td>\n",
       "    </tr>\n",
       "    <tr>\n",
       "      <th>18</th>\n",
       "      <td>7.0</td>\n",
       "      <td>Living_people</td>\n",
       "    </tr>\n",
       "    <tr>\n",
       "      <th>19</th>\n",
       "      <td>7.0</td>\n",
       "      <td>Major_League_Baseball_pitchers</td>\n",
       "    </tr>\n",
       "    <tr>\n",
       "      <th>20</th>\n",
       "      <td>7.0</td>\n",
       "      <td>Members_of_the_United_Kingdom_Parliament_for_E...</td>\n",
       "    </tr>\n",
       "    <tr>\n",
       "      <th>21</th>\n",
       "      <td>7.0</td>\n",
       "      <td>Place_of_birth_missing_(living_people)</td>\n",
       "    </tr>\n",
       "    <tr>\n",
       "      <th>22</th>\n",
       "      <td>7.0</td>\n",
       "      <td>Windows_games</td>\n",
       "    </tr>\n",
       "    <tr>\n",
       "      <th>23</th>\n",
       "      <td>7.0</td>\n",
       "      <td>Year_of_birth_missing</td>\n",
       "    </tr>\n",
       "    <tr>\n",
       "      <th>24</th>\n",
       "      <td>7.0</td>\n",
       "      <td>Year_of_birth_missing_(living_people)</td>\n",
       "    </tr>\n",
       "    <tr>\n",
       "      <th>25</th>\n",
       "      <td>7.0</td>\n",
       "      <td>Year_of_death_missing</td>\n",
       "    </tr>\n",
       "    <tr>\n",
       "      <th>26</th>\n",
       "      <td>8.0</td>\n",
       "      <td>Asteroids_named_for_people</td>\n",
       "    </tr>\n",
       "    <tr>\n",
       "      <th>27</th>\n",
       "      <td>8.0</td>\n",
       "      <td>Rivers_of_Romania</td>\n",
       "    </tr>\n",
       "    <tr>\n",
       "      <th>28</th>\n",
       "      <td>9.0</td>\n",
       "      <td>Main_Belt_asteroids</td>\n",
       "    </tr>\n",
       "  </tbody>\n",
       "</table>\n",
       "</div>"
      ],
      "text/plain": [
       "    Score                                           Category\n",
       "0     0.0                                English_footballers\n",
       "1     5.0                        The_Football_League_players\n",
       "2     6.0                               American_film_actors\n",
       "3     6.0                                     American_films\n",
       "4     6.0        American_military_personnel_of_World_War_II\n",
       "5     6.0                         American_television_actors\n",
       "6     6.0                     Association_football_defenders\n",
       "7     6.0                      Association_football_forwards\n",
       "8     6.0                   Association_football_goalkeepers\n",
       "9     6.0                   Association_football_midfielders\n",
       "10    6.0                                      British_films\n",
       "11    6.0                             English-language_films\n",
       "12    6.0                          People_from_New_York_City\n",
       "13    7.0                              Black-and-white_films\n",
       "14    7.0                                       Debut_albums\n",
       "15    7.0                            English-language_albums\n",
       "16    7.0                          Harvard_University_alumni\n",
       "17    7.0                                       Indian_films\n",
       "18    7.0                                      Living_people\n",
       "19    7.0                     Major_League_Baseball_pitchers\n",
       "20    7.0  Members_of_the_United_Kingdom_Parliament_for_E...\n",
       "21    7.0             Place_of_birth_missing_(living_people)\n",
       "22    7.0                                      Windows_games\n",
       "23    7.0                              Year_of_birth_missing\n",
       "24    7.0              Year_of_birth_missing_(living_people)\n",
       "25    7.0                              Year_of_death_missing\n",
       "26    8.0                         Asteroids_named_for_people\n",
       "27    8.0                                  Rivers_of_Romania\n",
       "28    9.0                                Main_Belt_asteroids"
      ]
     },
     "metadata": {},
     "output_type": "display_data"
    }
   ],
   "source": [
    "# Display block ranking\n",
    "display(pd_block_ranking)"
   ]
  },
  {
   "cell_type": "markdown",
   "metadata": {},
   "source": [
    "## 2.2) Ranking nodes of each category "
   ]
  },
  {
   "cell_type": "markdown",
   "metadata": {},
   "source": [
    "In this section we are using block ranking computed before to rank the nodes of each category. We are following the 3 steps:\n",
    "\n",
    "- [STEP1] Compute subgraph induced by C_0. For each node compute the sum of the weigths of the in-edges.\n",
    "- [STEP2] Extend the graph to the nodes that belong to C_1. Thus, for each article in C_1 compute the score as before. Note that the in-edges coming from the previous category, C_0, have as weights the score of the node that sends the edge.\n",
    "- [STEP3] Repeat Step2 up to the last category of the ranking. In the last step of the example you clearly see the weight update of the edge coming from node E."
   ]
  },
  {
   "cell_type": "markdown",
   "metadata": {},
   "source": [
    "We start adding attribute information of weight to all nodes to 0"
   ]
  },
  {
   "cell_type": "code",
   "execution_count": 26,
   "metadata": {},
   "outputs": [],
   "source": [
    "#Initiate or restart weight of all nodes:\n",
    "for node in set(Gdir.nodes):\n",
    "    Gdir.node[node]['weight'] = 0"
   ]
  },
  {
   "cell_type": "markdown",
   "metadata": {},
   "source": [
    "Now we are computing steps 1, 2 and 3"
   ]
  },
  {
   "cell_type": "code",
   "execution_count": 27,
   "metadata": {},
   "outputs": [
    {
     "name": "stdout",
     "output_type": "stream",
     "text": [
      "English_footballers; The_Football_League_players; American_film_actors; American_films; American_military_personnel_of_World_War_II; American_television_actors; Association_football_defenders; Association_football_forwards; Association_football_goalkeepers; Association_football_midfielders; British_films; English-language_films; People_from_New_York_City; Black-and-white_films; Debut_albums; English-language_albums; Harvard_University_alumni; Indian_films; Living_people; Major_League_Baseball_pitchers; Members_of_the_United_Kingdom_Parliament_for_English_constituencies; Place_of_birth_missing_(living_people); Windows_games; Year_of_birth_missing; Year_of_birth_missing_(living_people); Year_of_death_missing; Asteroids_named_for_people; Rivers_of_Romania; Main_Belt_asteroids; "
     ]
    }
   ],
   "source": [
    "# Variable containing nodes with a computed weight\n",
    "nodes_weight_computed = set()\n",
    "# Loop arround all categories \n",
    "for index_cat in range(len(pd_block_ranking)):\n",
    "    print(pd_block_ranking.loc[index_cat][1], end=\"; \") # Just to know which categorie is being computed\n",
    "    CI = pd_block_ranking.loc[index_cat][1] # Category name\n",
    "    \n",
    "    #Compute subgraph of CI\n",
    "    CI_sub = Gdir.subgraph(nodes=set(categories_reduced.get(CI))) # Make subgraph of the category\n",
    "\n",
    "    #Compute node weights of CI\n",
    "    for node in set(CI_sub.nodes):\n",
    "        aux_weight = 0 # This variable is to sum at the end the weight of other nodes already computed\n",
    "        # Loop in all in_edges nodes\n",
    "        for node_adj in Gdir.in_edges(node):\n",
    "            # Look if the in edges of the node to compute have already weight and save aux\n",
    "            if node_adj in nodes_weight_computed:\n",
    "                aux_weight += Gdir.node[node_adj[0]]['weight']\n",
    "            \n",
    "        # If node has not be computed, that means that belongs to the actual category\n",
    "        if node not in nodes_weight_computed:\n",
    "            # Save weight from subgraph and from nodes with computed weight\n",
    "            Gdir.node[node]['weight'] = len(list(CI_sub.in_edges(node))) + aux_weight\n",
    "    \n",
    "    # Update set of computed nodes\n",
    "    nodes_weight_computed.union(set(CI_sub.nodes))"
   ]
  },
  {
   "cell_type": "markdown",
   "metadata": {},
   "source": [
    "### Node ranking results and analysis:"
   ]
  },
  {
   "cell_type": "markdown",
   "metadata": {},
   "source": [
    "Making a list of list with the weight of the nodes of each category"
   ]
  },
  {
   "cell_type": "code",
   "execution_count": 28,
   "metadata": {},
   "outputs": [
    {
     "name": "stdout",
     "output_type": "stream",
     "text": [
      "English_footballers; The_Football_League_players; American_film_actors; American_films; American_military_personnel_of_World_War_II; American_television_actors; Association_football_defenders; Association_football_forwards; Association_football_goalkeepers; Association_football_midfielders; British_films; English-language_films; People_from_New_York_City; Black-and-white_films; Debut_albums; English-language_albums; Harvard_University_alumni; Indian_films; Living_people; Major_League_Baseball_pitchers; Members_of_the_United_Kingdom_Parliament_for_English_constituencies; Place_of_birth_missing_(living_people); Windows_games; Year_of_birth_missing; Year_of_birth_missing_(living_people); Year_of_death_missing; Asteroids_named_for_people; Rivers_of_Romania; Main_Belt_asteroids; "
     ]
    }
   ],
   "source": [
    "# Make a score list with node_id and score of each category to print results\n",
    "list_scores = []\n",
    "for index_cat in range(len(pd_block_ranking)):\n",
    "    print(pd_block_ranking.loc[index_cat][1], end=\"; \") # Just to know which categorie is being computed\n",
    "    CI = pd_block_ranking.loc[index_cat][1] # Category name\n",
    "    list_scores.append([])\n",
    "    #Compute subgraph\n",
    "    for node in set(categories_reduced.get(CI)):\n",
    "        list_scores[index_cat].append((Gdir.node[node]['weight'], node))"
   ]
  },
  {
   "cell_type": "markdown",
   "metadata": {},
   "source": [
    "Order nodes by weight of each list of categories:"
   ]
  },
  {
   "cell_type": "code",
   "execution_count": 29,
   "metadata": {},
   "outputs": [],
   "source": [
    "# Order each list inside list_scores by score\n",
    "for index_cat in range(len(pd_block_ranking)):\n",
    "    list_scores[index_cat].sort(key = lambda x: x[0], reverse=True)"
   ]
  },
  {
   "cell_type": "markdown",
   "metadata": {},
   "source": [
    "Print ordered nodes (weight, node_id) of each category:"
   ]
  },
  {
   "cell_type": "code",
   "execution_count": 30,
   "metadata": {},
   "outputs": [
    {
     "name": "stdout",
     "output_type": "stream",
     "text": [
      "\u001b[1m 0 English_footballers: \u001b[0m (261, 82393) (163, 82365) (163, 81878) (133, 81847)\n",
      "\u001b[1m 1 The_Football_League_players: \u001b[0m (261, 82393) (195, 82092) (163, 81878) (156, 81856)\n",
      "\u001b[1m 2 American_film_actors: \u001b[0m (869, 1179311) (617, 1061960) (536, 1184448) (497, 1062053)\n",
      "\u001b[1m 3 American_films: \u001b[0m (212, 572855) (67, 1063315) (45, 1247389) (40, 1063898)\n",
      "\u001b[1m 4 American_military_personnel_of_World_War_II: \u001b[0m (809, 1400483) (193, 1400484) (181, 1025555) (177, 1169029)\n",
      "\u001b[1m 5 American_television_actors: \u001b[0m (536, 1184448) (401, 1184788) (387, 1184217) (361, 1061971)\n",
      "\u001b[1m 6 Association_football_defenders: \u001b[0m (105, 81871) (87, 88804) (79, 85428) (77, 81787)\n",
      "\u001b[1m 7 Association_football_forwards: \u001b[0m (210, 89923) (163, 82365) (144, 81928) (131, 83512)\n",
      "\u001b[1m 8 Association_football_goalkeepers: \u001b[0m (3125, 81952) (71, 81854) (67, 82589) (63, 82414)\n",
      "\u001b[1m 9 Association_football_midfielders: \u001b[0m (261, 82393) (245, 89978) (163, 81878) (156, 81856)\n",
      "\u001b[1m 10 British_films: \u001b[0m (1501, 1041937) (25, 1061229) (21, 1253706) (20, 1253703)\n",
      "\u001b[1m 11 English-language_films: \u001b[0m (67, 1063315) (64, 1061272) (58, 1061132) (58, 1061244)\n",
      "\u001b[1m 12 People_from_New_York_City: \u001b[0m (316, 1503692) (272, 1062039) (234, 1061922) (232, 264586)\n",
      "\u001b[1m 13 Black-and-white_films: \u001b[0m (45, 1247389) (35, 1061246) (29, 1065028) (20, 1069743)\n",
      "\u001b[1m 14 Debut_albums: \u001b[0m (11, 1226587) (10, 1182555) (8, 1184504) (8, 1186668)\n",
      "\u001b[1m 15 English-language_albums: \u001b[0m (35, 1181799) (18, 1181800) (17, 1177252) (16, 1226586)\n",
      "\u001b[1m 16 Harvard_University_alumni: \u001b[0m (481, 1400534) (200, 1258196) (177, 1169029) (126, 1062012)\n",
      "\u001b[1m 17 Indian_films: \u001b[0m (18, 589341) (17, 586675) (16, 583741) (16, 589347)\n",
      "\u001b[1m 18 Living_people: \u001b[0m (3200, 1400548) (2627, 1400547) (2304, 1400635) (977, 1180117)\n",
      "\u001b[1m 19 Major_League_Baseball_pitchers: \u001b[0m (86, 386954) (83, 386837) (81, 386901) (81, 386932)\n",
      "\u001b[1m 20 Members_of_the_United_Kingdom_Parliament_for_English_constituencies: \u001b[0m (247, 540950) (233, 539587) (201, 537481) (193, 539805)\n",
      "\u001b[1m 21 Place_of_birth_missing_(living_people): \u001b[0m (14, 1130228) (9, 1229228) (8, 420190) (7, 1153132)\n",
      "\u001b[1m 22 Windows_games: \u001b[0m (55, 1738167) (49, 1738168) (38, 1735504) (37, 1740913)\n",
      "\u001b[1m 23 Year_of_birth_missing: \u001b[0m (6, 1008044) (6, 1008046) (6, 1008047) (6, 1008048)\n",
      "\u001b[1m 24 Year_of_birth_missing_(living_people): \u001b[0m (17, 1156802) (16, 1261640) (14, 1130228) (14, 740790)\n",
      "\u001b[1m 25 Year_of_death_missing: \u001b[0m (6, 661258) (6, 661259) (6, 661260) (6, 661261)\n",
      "\u001b[1m 26 Asteroids_named_for_people: \u001b[0m (6, 872825) (6, 872826) (6, 872827) (6, 872828)\n",
      "\u001b[1m 27 Rivers_of_Romania: \u001b[0m (278, 786913) (151, 786295) (140, 786474) (84, 784802)\n",
      "\u001b[1m 28 Main_Belt_asteroids: \u001b[0m (10555, 870589) (7, 871093) (6, 872825) (6, 872826)\n"
     ]
    }
   ],
   "source": [
    "# Print for each category a tuple of nodes with the score and the node_id\n",
    "for index_cat in range(len(pd_block_ranking)):\n",
    "    print(color.BOLD, index_cat, pd_block_ranking.loc[index_cat][1] + ':', color.END, *list_scores[index_cat][0:4])"
   ]
  },
  {
   "cell_type": "markdown",
   "metadata": {},
   "source": [
    "Now we are printing the same but changing the node_id for the real name of the article"
   ]
  },
  {
   "cell_type": "code",
   "execution_count": 31,
   "metadata": {},
   "outputs": [
    {
     "name": "stdout",
     "output_type": "stream",
     "text": [
      "\u001b[1m0. English_footballers\u001b[0m; David Beckham; Wayne Rooney; Harry Redknapp; Sam Allardyce; Glenn Hoddle\n",
      "\u001b[1m1. The_Football_League_players\u001b[0m; David Beckham; Kevin Keegan; Harry Redknapp; Roy Keane; Kenny Dalglish\n",
      "\u001b[1m2. American_film_actors\u001b[0m; Madonna (entertainer); Steven Spielberg; Britney Spears; Arnold Schwarzenegger; Whitney Houston\n",
      "\u001b[1m3. American_films\u001b[0m; Our Gang; The Wizard of Oz (1939 film); The Three Mesquiteers; Halloween (1978 film); Raiders of the Lost Ark\n",
      "\u001b[1m4. American_military_personnel_of_World_War_II\u001b[0m; Jimmy Carter; Richard Nixon; Tony Bennett; Henry Kissinger; Lyndon B. Johnson\n",
      "\u001b[1m5. American_television_actors\u001b[0m; Britney Spears; Christina Aguilera; Jennifer Lopez; Clint Eastwood; Cher\n",
      "\u001b[1m6. Association_football_defenders\u001b[0m; Micky Adams; Giovanni Trapattoni; Luiz Felipe Scolari; Mick McCarthy; Glenn Roeder\n",
      "\u001b[1m7. Association_football_forwards\u001b[0m; Pel; Wayne Rooney; Kenny Dalglish; Thierry Henry; Alan Shearer\n",
      "\u001b[1m8. Association_football_goalkeepers\u001b[0m; Goalkeeper (association football); Peter Schmeichel; Peter Shilton; Kevin Blackwell; Gianluigi Buffon\n",
      "\u001b[1m9. Association_football_midfielders\u001b[0m; David Beckham; Diego Maradona; Harry Redknapp; Roy Keane; Zinedine Zidane\n",
      "\u001b[1m10. British_films\u001b[0m; Cinema of the United Kingdom; A Clockwork Orange (film); Goldfinger (film); Thunderball (film); Gladiator (2000 film)\n",
      "\u001b[1m11. English-language_films\u001b[0m; The Wizard of Oz (1939 film); Titanic (1997 film); Jaws (film); Gone with the Wind (film); Alien (film)\n",
      "\u001b[1m12. People_from_New_York_City\u001b[0m; Stephen Sondheim; Oliver Stone; Al Pacino; Howard Stern; Whoopi Goldberg\n",
      "\u001b[1m13. Black-and-white_films\u001b[0m; The Three Mesquiteers; Citizen Kane; Frankenstein (1931 film); Dracula (1931 film); Casablanca (film)\n",
      "\u001b[1m14. Debut_albums\u001b[0m; Please Please Me; The Chronic; I Dreamed a Dream (album); The Piper at the Gates of Dawn; Ten (Pearl Jam album)\n",
      "\u001b[1m15. English-language_albums\u001b[0m; Sgt. Pepper's Lonely Hearts Club Band; The Beatles (album); Pet Sounds; Revolver (album); Thriller (album)\n",
      "\u001b[1m16. Harvard_University_alumni\u001b[0m; Al Gore; Jacques Chirac; Henry Kissinger; Natalie Portman; Conan O'Brien\n",
      "\u001b[1m17. Indian_films\u001b[0m; Amar Akbar Anthony; Sholay; Vaali; Chhalia; Chandramukhi\n",
      "\u001b[1m18. Living_people\u001b[0m; George W. Bush; Barack Obama; Bill Clinton; Bob Dylan; Madonna (entertainer)\n",
      "\u001b[1m19. Major_League_Baseball_pitchers\u001b[0m; Babe Ruth; Sandy Koufax; Randy Johnson; Roger Clemens; Nolan Ryan\n",
      "\u001b[1m20. Members_of_the_United_Kingdom_Parliament_for_English_constituencies\u001b[0m; Winston Churchill; Margaret Thatcher; William Ewart Gladstone; Tony Blair; David Cameron\n",
      "\u001b[1m21. Place_of_birth_missing_(living_people)\u001b[0m; Lorraine Broderick; Lucy Thane; Matt Fraction; Joe Casey; Francisco Bustamante\n",
      "\u001b[1m22. Windows_games\u001b[0m; Half-Life (video game); Half-Life 2; EverQuest; Myst; The Sims\n",
      "\u001b[1m23. Year_of_birth_missing\u001b[0m; Donald Adam; Murray Ashby; Bruce Culpan; Thomas Engel; Graham Jarratt\n",
      "\u001b[1m24. Year_of_birth_missing_(living_people)\u001b[0m; John Smith (comics); Dominic Messinger; Lorraine Broderick; Miranda Lee; Diana Hamilton\n",
      "\u001b[1m25. Year_of_death_missing\u001b[0m; Harry Clarke (footballer); Billy Libbis; Jack L. Collins; Bert Hyde; Donald Adam\n",
      "\u001b[1m26. Asteroids_named_for_people\u001b[0m; 3352 McAuliffe; 3351 Smith; 3353 Jarvis; 3355 Onizuka; 3356 Resnik\n",
      "\u001b[1m27. Rivers_of_Romania\u001b[0m; Olt River; Mure River; Bistria River (Siret); Lotru River; Siret River\n",
      "\u001b[1m28. Main_Belt_asteroids\u001b[0m; Asteroid belt; Cybele asteroid; 3352 McAuliffe; 3351 Smith; 3353 Jarvis\n"
     ]
    }
   ],
   "source": [
    "for index_cat in range(len(pd_block_ranking)):\n",
    "    names = []\n",
    "    for score, id_ in list_scores[index_cat]:\n",
    "        names.append(names_list[id_])\n",
    "        \n",
    "    print(color.BOLD + str(index_cat) + '. ' + pd_block_ranking.loc[index_cat][1] + color.END, *names[:5], sep=\"; \")"
   ]
  },
  {
   "cell_type": "markdown",
   "metadata": {},
   "source": [
    "As we can see all results we have a list of categories block ranked and also each article ranked by number of in-nodes."
   ]
  }
 ],
 "metadata": {
  "kernelspec": {
   "display_name": "Python 3",
   "language": "python",
   "name": "python3"
  },
  "language_info": {
   "codemirror_mode": {
    "name": "ipython",
    "version": 3
   },
   "file_extension": ".py",
   "mimetype": "text/x-python",
   "name": "python",
   "nbconvert_exporter": "python",
   "pygments_lexer": "ipython3",
   "version": "3.6.7"
  }
 },
 "nbformat": 4,
 "nbformat_minor": 2
}
