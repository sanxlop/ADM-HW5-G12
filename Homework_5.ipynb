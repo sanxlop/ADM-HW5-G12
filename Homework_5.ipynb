{
 "cells": [
  {
   "cell_type": "markdown",
   "metadata": {},
   "source": [
    "# 0. Import libraries"
   ]
  },
  {
   "cell_type": "code",
   "execution_count": 1,
   "metadata": {},
   "outputs": [],
   "source": [
    "import networkx as nx\n",
    "import pandas as pd\n",
    "import statistics"
   ]
  },
  {
   "cell_type": "markdown",
   "metadata": {},
   "source": [
    "# 1. Reading data"
   ]
  },
  {
   "cell_type": "markdown",
   "metadata": {},
   "source": [
    "### Reading reduced edges file"
   ]
  },
  {
   "cell_type": "code",
   "execution_count": 2,
   "metadata": {},
   "outputs": [],
   "source": [
    "columns = ['source', 'destination']\n",
    "reduced = pd.read_csv('wiki-topcats-reduced.txt', names=columns, sep='\\t')"
   ]
  },
  {
   "cell_type": "code",
   "execution_count": 3,
   "metadata": {},
   "outputs": [
    {
     "data": {
      "text/html": [
       "<div>\n",
       "<style scoped>\n",
       "    .dataframe tbody tr th:only-of-type {\n",
       "        vertical-align: middle;\n",
       "    }\n",
       "\n",
       "    .dataframe tbody tr th {\n",
       "        vertical-align: top;\n",
       "    }\n",
       "\n",
       "    .dataframe thead th {\n",
       "        text-align: right;\n",
       "    }\n",
       "</style>\n",
       "<table border=\"1\" class=\"dataframe\">\n",
       "  <thead>\n",
       "    <tr style=\"text-align: right;\">\n",
       "      <th></th>\n",
       "      <th>source</th>\n",
       "      <th>destination</th>\n",
       "    </tr>\n",
       "  </thead>\n",
       "  <tbody>\n",
       "    <tr>\n",
       "      <th>0</th>\n",
       "      <td>52</td>\n",
       "      <td>401135</td>\n",
       "    </tr>\n",
       "    <tr>\n",
       "      <th>1</th>\n",
       "      <td>52</td>\n",
       "      <td>1069112</td>\n",
       "    </tr>\n",
       "    <tr>\n",
       "      <th>2</th>\n",
       "      <td>52</td>\n",
       "      <td>1163551</td>\n",
       "    </tr>\n",
       "    <tr>\n",
       "      <th>3</th>\n",
       "      <td>62</td>\n",
       "      <td>12162</td>\n",
       "    </tr>\n",
       "    <tr>\n",
       "      <th>4</th>\n",
       "      <td>62</td>\n",
       "      <td>167659</td>\n",
       "    </tr>\n",
       "  </tbody>\n",
       "</table>\n",
       "</div>"
      ],
      "text/plain": [
       "   source  destination\n",
       "0      52       401135\n",
       "1      52      1069112\n",
       "2      52      1163551\n",
       "3      62        12162\n",
       "4      62       167659"
      ]
     },
     "execution_count": 3,
     "metadata": {},
     "output_type": "execute_result"
    }
   ],
   "source": [
    "reduced.head()"
   ]
  },
  {
   "cell_type": "code",
   "execution_count": 4,
   "metadata": {},
   "outputs": [
    {
     "name": "stdout",
     "output_type": "stream",
     "text": [
      "Number of edges: 2645247\n"
     ]
    }
   ],
   "source": [
    "# Number of edges\n",
    "print('Number of edges:', len(reduced)) "
   ]
  },
  {
   "cell_type": "code",
   "execution_count": 5,
   "metadata": {},
   "outputs": [
    {
     "name": "stdout",
     "output_type": "stream",
     "text": [
      "Number of nodes: 461193\n"
     ]
    }
   ],
   "source": [
    "# Number of nodes\n",
    "set_nodes = set([*list(reduced['source']), *list(reduced['destination'])])\n",
    "print('Number of nodes:', len(set_nodes)) "
   ]
  },
  {
   "cell_type": "markdown",
   "metadata": {},
   "source": [
    "### Reading page names file"
   ]
  },
  {
   "cell_type": "code",
   "execution_count": 6,
   "metadata": {
    "scrolled": false
   },
   "outputs": [],
   "source": [
    "#The ID is the same as the index of row so we are only saving the names ordered\n",
    "names_list = []\n",
    "with open('wiki-topcats-page-names.txt') as file:\n",
    "    for line in file:\n",
    "        cline = line.rstrip().split()\n",
    "        #row_id = cline[0]\n",
    "        row_name = cline[1:]\n",
    "        #names_list.append((row_id, \" \".join(row_name)))\n",
    "        names_list.append(\" \".join(row_name))"
   ]
  },
  {
   "cell_type": "code",
   "execution_count": 7,
   "metadata": {},
   "outputs": [
    {
     "data": {
      "text/plain": [
       "'Chiasmal syndrome'"
      ]
     },
     "execution_count": 7,
     "metadata": {},
     "output_type": "execute_result"
    }
   ],
   "source": [
    "names_list[0]"
   ]
  },
  {
   "cell_type": "code",
   "execution_count": 8,
   "metadata": {},
   "outputs": [
    {
     "data": {
      "text/plain": [
       "1791489"
      ]
     },
     "execution_count": 8,
     "metadata": {},
     "output_type": "execute_result"
    }
   ],
   "source": [
    "len(names_list)"
   ]
  },
  {
   "cell_type": "markdown",
   "metadata": {},
   "source": [
    "### Reading categories file"
   ]
  },
  {
   "cell_type": "code",
   "execution_count": 9,
   "metadata": {},
   "outputs": [],
   "source": [
    "categories = {}\n",
    "with open('wiki-topcats-categories.txt') as file:\n",
    "    for line in file:\n",
    "        row_cat = line.rstrip().partition(':')[2].partition('; ')[0]\n",
    "        row_artic = list(map(int, line.rstrip().partition(':')[2].partition('; ')[2].split()))\n",
    "        if len(row_artic) > 3500: # Each category must have more than 3500 nodes\n",
    "            categories[row_cat] = row_artic"
   ]
  },
  {
   "cell_type": "code",
   "execution_count": 10,
   "metadata": {},
   "outputs": [
    {
     "name": "stdout",
     "output_type": "stream",
     "text": [
      "{'English_footballers': 9237, 'The_Football_League_players': 9467, 'Association_football_forwards': 6959, 'Association_football_goalkeepers': 3997, 'Association_football_midfielders': 8270, 'Association_football_defenders': 6668, 'Living_people': 418223, 'Year_of_birth_unknown': 3760, 'Harvard_University_alumni': 6154, 'Major_League_Baseball_pitchers': 6580, 'Members_of_the_United_Kingdom_Parliament_for_English_constituencies': 6546, 'Indian_films': 5913, 'Year_of_death_missing': 7851, 'English_cricketers': 3813, 'Year_of_birth_missing_(living_people)': 34721, 'Rivers_of_Romania': 7729, 'Main_Belt_asteroids': 13704, 'Asteroids_named_for_people': 5701, 'English-language_albums': 4853, 'English_television_actors': 3501, 'British_films': 4551, 'English-language_films': 22699, 'American_films': 15302, 'Fellows_of_the_Royal_Society': 3697, 'People_from_New_York_City': 4888, 'American_Jews': 3542, 'American_television_actors': 11661, 'American_film_actors': 13938, 'Debut_albums': 8401, 'Black-and-white_films': 12174, 'Year_of_birth_missing': 7237, 'Place_of_birth_missing_(living_people)': 6767, 'Article_Feedback_Pilot': 3588, 'American_military_personnel_of_World_War_II': 4040, 'Windows_games': 4517}\n"
     ]
    }
   ],
   "source": [
    "# Print categories keys and length of the contained list\n",
    "length_categories = {key: len(value) for key, value in categories.items()}\n",
    "print(length_categories)"
   ]
  },
  {
   "cell_type": "code",
   "execution_count": 11,
   "metadata": {},
   "outputs": [
    {
     "name": "stdout",
     "output_type": "stream",
     "text": [
      "Number of categories: 35\n"
     ]
    }
   ],
   "source": [
    "print(\"Number of categories:\", len(categories.keys()))"
   ]
  },
  {
   "cell_type": "markdown",
   "metadata": {},
   "source": [
    "Now we have to intersect the dictionary of categories with the set of nodes in reduced file:"
   ]
  },
  {
   "cell_type": "code",
   "execution_count": 12,
   "metadata": {},
   "outputs": [],
   "source": [
    "# Intersect categories and set_nodes of reduced\n",
    "categories_reduced = {}\n",
    "for key, values in categories.items():\n",
    "    aux_list = set_nodes.intersection(values)\n",
    "    if(len(aux_list) > 3500): # Each category must have more than 3500 nodes\n",
    "        categories_reduced[key] = aux_list   "
   ]
  },
  {
   "cell_type": "code",
   "execution_count": 13,
   "metadata": {},
   "outputs": [
    {
     "name": "stdout",
     "output_type": "stream",
     "text": [
      "{'English_footballers': 7538, 'The_Football_League_players': 7814, 'Association_football_forwards': 5097, 'Association_football_goalkeepers': 3737, 'Association_football_midfielders': 5827, 'Association_football_defenders': 4588, 'Living_people': 348300, 'Harvard_University_alumni': 5549, 'Major_League_Baseball_pitchers': 5192, 'Members_of_the_United_Kingdom_Parliament_for_English_constituencies': 6491, 'Indian_films': 5568, 'Year_of_death_missing': 4122, 'Year_of_birth_missing_(living_people)': 28498, 'Rivers_of_Romania': 7729, 'Main_Belt_asteroids': 11660, 'Asteroids_named_for_people': 4895, 'English-language_albums': 4760, 'British_films': 4422, 'English-language_films': 22463, 'American_films': 15159, 'People_from_New_York_City': 4614, 'American_television_actors': 11531, 'American_film_actors': 13865, 'Debut_albums': 7561, 'Black-and-white_films': 10759, 'Year_of_birth_missing': 4346, 'Place_of_birth_missing_(living_people)': 5532, 'American_military_personnel_of_World_War_II': 3720, 'Windows_games': 4025}\n"
     ]
    }
   ],
   "source": [
    "length_categories_reduced = {key: len(value) for key, value in categories_reduced.items()}\n",
    "print(length_categories_reduced)"
   ]
  },
  {
   "cell_type": "code",
   "execution_count": 14,
   "metadata": {},
   "outputs": [
    {
     "name": "stdout",
     "output_type": "stream",
     "text": [
      "Number of categories_reduced: 29\n"
     ]
    }
   ],
   "source": [
    "print(\"Number of categories_reduced:\", len(categories_reduced.keys()))"
   ]
  },
  {
   "cell_type": "markdown",
   "metadata": {},
   "source": [
    "# [RQ1] Build the graph\n",
    "\n",
    "Build the graph G=(V, E), where V is the set of articles and E the hyperlinks among them. For this section we are using networkx to build the graph.\n",
    "\n",
    "We have a file with the source and destination node id so it seems to be a directed graph. Just to be sure we are going to build to graphs. Directed and Undirected graph."
   ]
  },
  {
   "cell_type": "code",
   "execution_count": 105,
   "metadata": {},
   "outputs": [],
   "source": [
    "# Create a directed Graph\n",
    "Gdir = nx.DiGraph() # Directed graph\n",
    "Gund = nx.Graph() # Undirected graph\n",
    "\n",
    "# Insert Nodes to both graphs\n",
    "Gdir.add_nodes_from(set_nodes)\n",
    "Gund.add_nodes_from(set_nodes)\n",
    "\n",
    "# Add Edges to both graphs\n",
    "for index, row in reduced.iterrows():\n",
    "    Gdir.add_edge(row['source'], row['destination'])\n",
    "    Gund.add_edge(row['source'], row['destination'])"
   ]
  },
  {
   "cell_type": "code",
   "execution_count": 106,
   "metadata": {},
   "outputs": [
    {
     "name": "stdout",
     "output_type": "stream",
     "text": [
      "Edges in file wiki-topcats-reduced.txt:  2645247\n",
      "Edges in graph directed:  2645247\n",
      "Edges in graph undirected:  2174451\n"
     ]
    }
   ],
   "source": [
    "print(\"Edges in file wiki-topcats-reduced.txt: \", len(reduced))\n",
    "print(\"Edges in graph directed: \", Gdir.number_of_edges(), )\n",
    "print(\"Edges in graph undirected: \", Gund.number_of_edges())"
   ]
  },
  {
   "cell_type": "markdown",
   "metadata": {},
   "source": [
    "We can observe that it is a directed graph because there are more edges in the directed so some of them are unidirected. (To be undirected need to have all source/destination in both directions)"
   ]
  },
  {
   "cell_type": "code",
   "execution_count": 107,
   "metadata": {},
   "outputs": [
    {
     "name": "stdout",
     "output_type": "stream",
     "text": [
      "Directed Graph:\n",
      "Name: \n",
      "Type: DiGraph\n",
      "Number of nodes: 461193\n",
      "Number of edges: 2645247\n",
      "Average in degree:   5.7357\n",
      "Average out degree:   5.7357 \n",
      "\n"
     ]
    }
   ],
   "source": [
    "# Directed graph\n",
    "print(\"Directed Graph:\")\n",
    "print(nx.info(Gdir),'\\n')\n",
    "# Undirected graph\n",
    "#print(\"Undirected Graph:\")\n",
    "#print(nx.info(Gund))\n",
    "del Gund"
   ]
  },
  {
   "cell_type": "code",
   "execution_count": 108,
   "metadata": {},
   "outputs": [
    {
     "data": {
      "text/plain": [
       "1.2436602635647606e-05"
      ]
     },
     "execution_count": 108,
     "metadata": {},
     "output_type": "execute_result"
    }
   ],
   "source": [
    "nx.density(Gdir)"
   ]
  },
  {
   "cell_type": "markdown",
   "metadata": {},
   "source": [
    "### Graph results:\n",
    "\n",
    "- It is a **DIRECTED graph** because the edges given are source-destination\n",
    "- The number of nodes: **461193**\n",
    "- The number of edges: **2645247**\n",
    "- The average node degree: **Average in degree:   5.7357 | Average out degree:   5.7357** Each node has on average 5.7 nodes in and 5.7 nodes out\n",
    "- Is the graph dense?: **density = 1.24e-05** The density is 0 for a graph without edges and 1 for a complete graph. So it is not dense."
   ]
  },
  {
   "cell_type": "markdown",
   "metadata": {},
   "source": [
    "# [RQ2] Block Ranking"
   ]
  },
  {
   "cell_type": "markdown",
   "metadata": {},
   "source": [
    "Obtain a block-ranking, where the blocks are represented by the categories. In particular, we want: block_ranking = [C0, C1, C2...]\n",
    "\n",
    "Each category  corresponds to a list of nodes.\n",
    "The order of the remaining categories is given by:\n",
    "\n",
    "**distance(Co, Ci) = median(ShortestPath(Co, Ci))**"
   ]
  },
  {
   "cell_type": "markdown",
   "metadata": {},
   "source": [
    "### THIS CODE IS TO TEST ONLY"
   ]
  },
  {
   "cell_type": "code",
   "execution_count": 19,
   "metadata": {},
   "outputs": [],
   "source": [
    "# THIS FUNCTION IS ONLY FOR TIMING\n",
    "CxCy = []\n",
    "def distance_time():\n",
    "    \n",
    "    # Input category to make block ranking\n",
    "    source_category = 'English_footballers'\n",
    "    target_category = 'The_Football_League_players'\n",
    "\n",
    "    C0 = list(categories_reduced.get(source_category)) #C0\n",
    "    CI = list(categories_reduced.get(target_category)) #C1\n",
    "    \n",
    "    for s_value in C0[:20]:\n",
    "        for t_value in CI:\n",
    "            #if s_value != t_value:\n",
    "                try:\n",
    "                    CxCy.append(nx.shortest_path_length(Gdir, source=s_value, target=t_value))\n",
    "                except:\n",
    "                    pass\n",
    "\n",
    "    return statistics.median(CxCy)"
   ]
  },
  {
   "cell_type": "code",
   "execution_count": 20,
   "metadata": {
    "scrolled": true
   },
   "outputs": [
    {
     "data": {
      "text/plain": [
       "18.7636619446802"
      ]
     },
     "execution_count": 20,
     "metadata": {},
     "output_type": "execute_result"
    }
   ],
   "source": [
    "# THIS PART IS ONLY FOR TIMING\n",
    "import timeit\n",
    "timeit.timeit(distance_time, number = 1)\n",
    "#takes 19 seconds to compare 20 values vs all values of 2 categories---> too much"
   ]
  },
  {
   "cell_type": "markdown",
   "metadata": {},
   "source": [
    "### HERE STARTS"
   ]
  },
  {
   "cell_type": "code",
   "execution_count": 101,
   "metadata": {},
   "outputs": [],
   "source": [
    "def distance(C0, CI):\n",
    "    CxCy = []\n",
    "\n",
    "    C0 = list(categories_reduced.get(C0)) #C0\n",
    "    CI = list(categories_reduced.get(CI)) #C1\n",
    "    \n",
    "    for s_value in C0[:100]:\n",
    "        for t_value in CI[:100]:\n",
    "            #if s_value != t_value:\n",
    "                try:\n",
    "                    CxCy.append(nx.shortest_path_length(Gdir, source=s_value, target=t_value))\n",
    "                except:\n",
    "                    pass\n",
    "\n",
    "    return statistics.median(CxCy)"
   ]
  },
  {
   "cell_type": "code",
   "execution_count": 102,
   "metadata": {},
   "outputs": [],
   "source": [
    "C0 = 'English_footballers'\n",
    "block_ranking = [(0, C0)]\n",
    "for cat in categories_reduced.keys():\n",
    "    if cat != C0:\n",
    "        block_ranking.append((distance(C0, cat), cat))"
   ]
  },
  {
   "cell_type": "code",
   "execution_count": 103,
   "metadata": {},
   "outputs": [],
   "source": [
    "block_ranking.sort()"
   ]
  },
  {
   "cell_type": "code",
   "execution_count": 111,
   "metadata": {},
   "outputs": [
    {
     "name": "stdout",
     "output_type": "stream",
     "text": [
      "0 English_footballers\n",
      "5 Association_football_forwards\n",
      "6 American_film_actors\n",
      "6 American_films\n",
      "6 American_military_personnel_of_World_War_II\n",
      "6 American_television_actors\n",
      "6 Association_football_defenders\n",
      "6 Association_football_goalkeepers\n",
      "6 Association_football_midfielders\n",
      "6 Black-and-white_films\n",
      "6 British_films\n",
      "6 Debut_albums\n",
      "6 English-language_films\n",
      "6 Harvard_University_alumni\n",
      "6 People_from_New_York_City\n",
      "6 The_Football_League_players\n",
      "7 English-language_albums\n",
      "7 Indian_films\n",
      "7 Living_people\n",
      "7 Major_League_Baseball_pitchers\n",
      "7 Members_of_the_United_Kingdom_Parliament_for_English_constituencies\n",
      "7 Place_of_birth_missing_(living_people)\n",
      "7 Rivers_of_Romania\n",
      "7 Windows_games\n",
      "8 Year_of_birth_missing\n",
      "8 Year_of_birth_missing_(living_people)\n",
      "8 Year_of_death_missing\n",
      "9 Asteroids_named_for_people\n",
      "9 Main_Belt_asteroids\n"
     ]
    }
   ],
   "source": [
    "for i in block_ranking:\n",
    "    print(int(i[0]), i[1])"
   ]
  },
  {
   "cell_type": "code",
   "execution_count": null,
   "metadata": {},
   "outputs": [],
   "source": []
  },
  {
   "cell_type": "code",
   "execution_count": null,
   "metadata": {},
   "outputs": [],
   "source": []
  },
  {
   "cell_type": "code",
   "execution_count": null,
   "metadata": {},
   "outputs": [],
   "source": []
  },
  {
   "cell_type": "code",
   "execution_count": null,
   "metadata": {},
   "outputs": [],
   "source": []
  },
  {
   "cell_type": "code",
   "execution_count": null,
   "metadata": {},
   "outputs": [],
   "source": []
  },
  {
   "cell_type": "code",
   "execution_count": null,
   "metadata": {},
   "outputs": [],
   "source": []
  },
  {
   "cell_type": "code",
   "execution_count": null,
   "metadata": {},
   "outputs": [],
   "source": []
  }
 ],
 "metadata": {
  "kernelspec": {
   "display_name": "Python 3",
   "language": "python",
   "name": "python3"
  },
  "language_info": {
   "codemirror_mode": {
    "name": "ipython",
    "version": 3
   },
   "file_extension": ".py",
   "mimetype": "text/x-python",
   "name": "python",
   "nbconvert_exporter": "python",
   "pygments_lexer": "ipython3",
   "version": "3.6.7"
  }
 },
 "nbformat": 4,
 "nbformat_minor": 2
}
