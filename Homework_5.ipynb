{
 "cells": [
  {
   "cell_type": "markdown",
   "metadata": {},
   "source": [
    "# 0. Import libraries"
   ]
  },
  {
   "cell_type": "code",
   "execution_count": 146,
   "metadata": {},
   "outputs": [],
   "source": [
    "import networkx as nx\n",
    "import pandas as pd\n",
    "import statistics\n",
    "import collections\n",
    "import timeit"
   ]
  },
  {
   "cell_type": "markdown",
   "metadata": {},
   "source": [
    "# 1. Reading data"
   ]
  },
  {
   "cell_type": "markdown",
   "metadata": {},
   "source": [
    "### Reading reduced edges file"
   ]
  },
  {
   "cell_type": "code",
   "execution_count": 2,
   "metadata": {},
   "outputs": [],
   "source": [
    "reduced = pd.read_csv('wiki-topcats-reduced.txt', names=['source', 'destination'], sep='\\t')"
   ]
  },
  {
   "cell_type": "code",
   "execution_count": 3,
   "metadata": {},
   "outputs": [
    {
     "data": {
      "text/html": [
       "<div>\n",
       "<style scoped>\n",
       "    .dataframe tbody tr th:only-of-type {\n",
       "        vertical-align: middle;\n",
       "    }\n",
       "\n",
       "    .dataframe tbody tr th {\n",
       "        vertical-align: top;\n",
       "    }\n",
       "\n",
       "    .dataframe thead th {\n",
       "        text-align: right;\n",
       "    }\n",
       "</style>\n",
       "<table border=\"1\" class=\"dataframe\">\n",
       "  <thead>\n",
       "    <tr style=\"text-align: right;\">\n",
       "      <th></th>\n",
       "      <th>source</th>\n",
       "      <th>destination</th>\n",
       "    </tr>\n",
       "  </thead>\n",
       "  <tbody>\n",
       "    <tr>\n",
       "      <th>0</th>\n",
       "      <td>52</td>\n",
       "      <td>401135</td>\n",
       "    </tr>\n",
       "    <tr>\n",
       "      <th>1</th>\n",
       "      <td>52</td>\n",
       "      <td>1069112</td>\n",
       "    </tr>\n",
       "    <tr>\n",
       "      <th>2</th>\n",
       "      <td>52</td>\n",
       "      <td>1163551</td>\n",
       "    </tr>\n",
       "    <tr>\n",
       "      <th>3</th>\n",
       "      <td>62</td>\n",
       "      <td>12162</td>\n",
       "    </tr>\n",
       "    <tr>\n",
       "      <th>4</th>\n",
       "      <td>62</td>\n",
       "      <td>167659</td>\n",
       "    </tr>\n",
       "  </tbody>\n",
       "</table>\n",
       "</div>"
      ],
      "text/plain": [
       "   source  destination\n",
       "0      52       401135\n",
       "1      52      1069112\n",
       "2      52      1163551\n",
       "3      62        12162\n",
       "4      62       167659"
      ]
     },
     "execution_count": 3,
     "metadata": {},
     "output_type": "execute_result"
    }
   ],
   "source": [
    "reduced.head()"
   ]
  },
  {
   "cell_type": "code",
   "execution_count": 4,
   "metadata": {},
   "outputs": [
    {
     "name": "stdout",
     "output_type": "stream",
     "text": [
      "Number of edges: 2645247\n"
     ]
    }
   ],
   "source": [
    "# Number of edges\n",
    "print('Number of edges:', len(reduced)) "
   ]
  },
  {
   "cell_type": "code",
   "execution_count": 5,
   "metadata": {},
   "outputs": [
    {
     "name": "stdout",
     "output_type": "stream",
     "text": [
      "Number of nodes: 461193\n"
     ]
    }
   ],
   "source": [
    "# Number of nodes\n",
    "set_nodes = set([*list(reduced['source']), *list(reduced['destination'])])\n",
    "print('Number of nodes:', len(set_nodes)) "
   ]
  },
  {
   "cell_type": "markdown",
   "metadata": {},
   "source": [
    "### Reading page names file"
   ]
  },
  {
   "cell_type": "code",
   "execution_count": 6,
   "metadata": {
    "scrolled": false
   },
   "outputs": [],
   "source": [
    "#The ID is the same as the index of row so we are only saving the names ordered\n",
    "def read_names_list(file_path):\n",
    "    names_list = []\n",
    "    with open(file_path) as file:\n",
    "        for line in file:\n",
    "            cline = line.rstrip().split()\n",
    "            #row_id = cline[0]\n",
    "            row_name = cline[1:]\n",
    "            #names_list.append((row_id, \" \".join(row_name)))\n",
    "            names_list.append(\" \".join(row_name))\n",
    "    return names_list\n",
    "        \n",
    "names_list = read_names_list('wiki-topcats-page-names.txt')"
   ]
  },
  {
   "cell_type": "code",
   "execution_count": 7,
   "metadata": {},
   "outputs": [
    {
     "data": {
      "text/plain": [
       "'Chiasmal syndrome'"
      ]
     },
     "execution_count": 7,
     "metadata": {},
     "output_type": "execute_result"
    }
   ],
   "source": [
    "names_list[0]"
   ]
  },
  {
   "cell_type": "code",
   "execution_count": 8,
   "metadata": {},
   "outputs": [
    {
     "data": {
      "text/plain": [
       "1791489"
      ]
     },
     "execution_count": 8,
     "metadata": {},
     "output_type": "execute_result"
    }
   ],
   "source": [
    "len(names_list)"
   ]
  },
  {
   "cell_type": "markdown",
   "metadata": {},
   "source": [
    "### Reading categories file"
   ]
  },
  {
   "cell_type": "code",
   "execution_count": 9,
   "metadata": {},
   "outputs": [],
   "source": [
    "def read_categories_list(file_path):\n",
    "    categories = {}\n",
    "    with open(file_path) as file:\n",
    "        for line in file:\n",
    "            row_cat = line.rstrip().partition(':')[2].partition('; ')[0]\n",
    "            row_artic = list(map(int, line.rstrip().partition(':')[2].partition('; ')[2].split()))\n",
    "            if len(row_artic) > 3500: # Each category must have more than 3500 nodes\n",
    "                categories[row_cat] = row_artic\n",
    "    return categories\n",
    "\n",
    "categories = read_categories_list('wiki-topcats-categories.txt')"
   ]
  },
  {
   "cell_type": "code",
   "execution_count": 10,
   "metadata": {
    "scrolled": true
   },
   "outputs": [
    {
     "name": "stdout",
     "output_type": "stream",
     "text": [
      "{'English_footballers': 9237, 'The_Football_League_players': 9467, 'Association_football_forwards': 6959, 'Association_football_goalkeepers': 3997, 'Association_football_midfielders': 8270, 'Association_football_defenders': 6668, 'Living_people': 418223, 'Year_of_birth_unknown': 3760, 'Harvard_University_alumni': 6154, 'Major_League_Baseball_pitchers': 6580, 'Members_of_the_United_Kingdom_Parliament_for_English_constituencies': 6546, 'Indian_films': 5913, 'Year_of_death_missing': 7851, 'English_cricketers': 3813, 'Year_of_birth_missing_(living_people)': 34721, 'Rivers_of_Romania': 7729, 'Main_Belt_asteroids': 13704, 'Asteroids_named_for_people': 5701, 'English-language_albums': 4853, 'English_television_actors': 3501, 'British_films': 4551, 'English-language_films': 22699, 'American_films': 15302, 'Fellows_of_the_Royal_Society': 3697, 'People_from_New_York_City': 4888, 'American_Jews': 3542, 'American_television_actors': 11661, 'American_film_actors': 13938, 'Debut_albums': 8401, 'Black-and-white_films': 12174, 'Year_of_birth_missing': 7237, 'Place_of_birth_missing_(living_people)': 6767, 'Article_Feedback_Pilot': 3588, 'American_military_personnel_of_World_War_II': 4040, 'Windows_games': 4517}\n"
     ]
    }
   ],
   "source": [
    "# Print categories keys and length of the contained list\n",
    "length_categories = {key: len(value) for key, value in categories.items()}\n",
    "print(length_categories)\n",
    "del length_categories"
   ]
  },
  {
   "cell_type": "code",
   "execution_count": 11,
   "metadata": {},
   "outputs": [
    {
     "name": "stdout",
     "output_type": "stream",
     "text": [
      "Number of categories: 35\n"
     ]
    }
   ],
   "source": [
    "print(\"Number of categories:\", len(categories.keys()))"
   ]
  },
  {
   "cell_type": "markdown",
   "metadata": {},
   "source": [
    "Now we have to intersect the dictionary of categories with the set of nodes in reduced file:"
   ]
  },
  {
   "cell_type": "code",
   "execution_count": 12,
   "metadata": {},
   "outputs": [],
   "source": [
    "# Intersect categories and set_nodes of reduced\n",
    "def intersect_categories_reduced(categories, set_nodes):\n",
    "    categories_reduced = {}\n",
    "    for key, values in categories.items():\n",
    "        aux_list = set_nodes.intersection(values)\n",
    "        if(len(aux_list) > 3500): # Each category must have more than 3500 nodes\n",
    "            categories_reduced[key] = aux_list   \n",
    "    return categories_reduced\n",
    "\n",
    "categories_reduced = intersect_categories_reduced(categories, set_nodes)"
   ]
  },
  {
   "cell_type": "code",
   "execution_count": 13,
   "metadata": {
    "scrolled": true
   },
   "outputs": [
    {
     "name": "stdout",
     "output_type": "stream",
     "text": [
      "{'English_footballers': 7538, 'The_Football_League_players': 7814, 'Association_football_forwards': 5097, 'Association_football_goalkeepers': 3737, 'Association_football_midfielders': 5827, 'Association_football_defenders': 4588, 'Living_people': 348300, 'Harvard_University_alumni': 5549, 'Major_League_Baseball_pitchers': 5192, 'Members_of_the_United_Kingdom_Parliament_for_English_constituencies': 6491, 'Indian_films': 5568, 'Year_of_death_missing': 4122, 'Year_of_birth_missing_(living_people)': 28498, 'Rivers_of_Romania': 7729, 'Main_Belt_asteroids': 11660, 'Asteroids_named_for_people': 4895, 'English-language_albums': 4760, 'British_films': 4422, 'English-language_films': 22463, 'American_films': 15159, 'People_from_New_York_City': 4614, 'American_television_actors': 11531, 'American_film_actors': 13865, 'Debut_albums': 7561, 'Black-and-white_films': 10759, 'Year_of_birth_missing': 4346, 'Place_of_birth_missing_(living_people)': 5532, 'American_military_personnel_of_World_War_II': 3720, 'Windows_games': 4025}\n"
     ]
    }
   ],
   "source": [
    "length_categories_reduced = {key: len(value) for key, value in categories_reduced.items()}\n",
    "print(length_categories_reduced)\n",
    "del length_categories_reduced"
   ]
  },
  {
   "cell_type": "code",
   "execution_count": 14,
   "metadata": {},
   "outputs": [
    {
     "name": "stdout",
     "output_type": "stream",
     "text": [
      "Number of categories_reduced: 29\n"
     ]
    }
   ],
   "source": [
    "print(\"Number of categories_reduced:\", len(categories_reduced.keys()))"
   ]
  },
  {
   "cell_type": "markdown",
   "metadata": {},
   "source": [
    "# [RQ1] Build the graph\n",
    "\n",
    "Build the graph G=(V, E), where V is the set of articles and E the hyperlinks among them. For this section we are using networkx to build the graph.\n",
    "\n",
    "We have a file with the source and destination node id so it seems to be a directed graph. Just to be sure we are going to build to graphs. Directed and Undirected graph."
   ]
  },
  {
   "cell_type": "code",
   "execution_count": 15,
   "metadata": {},
   "outputs": [],
   "source": [
    "# Create a directed Graph\n",
    "Gdir = nx.DiGraph() # Directed graph\n",
    "#Gund = nx.Graph() # Undirected graph\n",
    "\n",
    "# Insert Nodes to both graphs\n",
    "Gdir.add_nodes_from(set_nodes)\n",
    "#Gund.add_nodes_from(set_nodes)\n",
    "\n",
    "# Add Edges to both graphs\n",
    "for index, row in reduced.iterrows():\n",
    "    Gdir.add_edge(row['source'], row['destination'])\n",
    "    #Gund.add_edge(row['source'], row['destination'])"
   ]
  },
  {
   "cell_type": "code",
   "execution_count": 16,
   "metadata": {},
   "outputs": [
    {
     "name": "stdout",
     "output_type": "stream",
     "text": [
      "Edges in file wiki-topcats-reduced.txt:  2645247\n",
      "Edges in graph directed:  2645247\n"
     ]
    }
   ],
   "source": [
    "print(\"Edges in file wiki-topcats-reduced.txt: \", len(reduced))\n",
    "print(\"Edges in graph directed: \", Gdir.number_of_edges(), )\n",
    "#print(\"Edges in graph undirected: \", Gund.number_of_edges())"
   ]
  },
  {
   "cell_type": "markdown",
   "metadata": {},
   "source": [
    "We can observe that it is a directed graph because there are more edges in the directed so some of them are unidirected. (To be undirected need to have all source/destination in both directions)"
   ]
  },
  {
   "cell_type": "code",
   "execution_count": 17,
   "metadata": {},
   "outputs": [
    {
     "name": "stdout",
     "output_type": "stream",
     "text": [
      "Directed Graph:\n",
      "Name: \n",
      "Type: DiGraph\n",
      "Number of nodes: 461193\n",
      "Number of edges: 2645247\n",
      "Average in degree:   5.7357\n",
      "Average out degree:   5.7357 \n",
      "\n"
     ]
    }
   ],
   "source": [
    "# Directed graph\n",
    "print(\"Directed Graph:\")\n",
    "print(nx.info(Gdir),'\\n')\n",
    "# Undirected graph\n",
    "#print(\"Undirected Graph:\")\n",
    "#print(nx.info(Gund))"
   ]
  },
  {
   "cell_type": "code",
   "execution_count": 18,
   "metadata": {},
   "outputs": [
    {
     "data": {
      "text/plain": [
       "1.2436602635647606e-05"
      ]
     },
     "execution_count": 18,
     "metadata": {},
     "output_type": "execute_result"
    }
   ],
   "source": [
    "nx.density(Gdir)"
   ]
  },
  {
   "cell_type": "markdown",
   "metadata": {},
   "source": [
    "### Graph results:\n",
    "\n",
    "- It is a **DIRECTED graph** because the edges given are source-destination\n",
    "- The number of nodes: **461193**\n",
    "- The number of edges: **2645247**\n",
    "- The average node degree: **Average in degree:   5.7357 | Average out degree:   5.7357** Each node has on average 5.7 nodes in and 5.7 nodes out\n",
    "- Is the graph dense?: **density = 1.24e-05** The density is 0 for a graph without edges and 1 for a complete graph. So it is not dense."
   ]
  },
  {
   "cell_type": "markdown",
   "metadata": {},
   "source": [
    "### Clean active variables to save memory"
   ]
  },
  {
   "cell_type": "code",
   "execution_count": 19,
   "metadata": {},
   "outputs": [
    {
     "name": "stdout",
     "output_type": "stream",
     "text": [
      "Variable                       Type         Data/Info\n",
      "-----------------------------------------------------\n",
      "Gdir                           DiGraph      \n",
      "categories                     dict         n=35\n",
      "categories_reduced             dict         n=29\n",
      "collections                    module       <module 'collections' fro<...>ollections\\\\__init__.py'>\n",
      "index                          int          2645246\n",
      "intersect_categories_reduced   function     <function intersect_categ<...>ed at 0x0000019092EFC2F0>\n",
      "names_list                     list         n=1791489\n",
      "nx                             module       <module 'networkx' from '<...>\\\\networkx\\\\__init__.py'>\n",
      "pd                             module       <module 'pandas' from 'C:<...>es\\\\pandas\\\\__init__.py'>\n",
      "read_categories_list           function     <function read_categories<...>st at 0x0000019092ECFAE8>\n",
      "read_names_list                function     <function read_names_list at 0x0000019080004598>\n",
      "reduced                        DataFrame              source  destina<...>2645247 rows x 2 columns]\n",
      "row                            Series       source         1791488\\nd<...>me: 2645246, dtype: int64\n",
      "set_nodes                      set          {1048576, 1048577, 104857<...>048571, 1048572, 1048575}\n",
      "statistics                     module       <module 'statistics' from<...>da3\\\\lib\\\\statistics.py'>\n"
     ]
    }
   ],
   "source": [
    "%whos"
   ]
  },
  {
   "cell_type": "code",
   "execution_count": 20,
   "metadata": {},
   "outputs": [],
   "source": [
    "#set_nodes, reduced, names_list, categories, categories_reduced, Gdir, Gund, index, row\n",
    "del set_nodes, reduced, names_list, categories, index, row # Remove unused variables"
   ]
  },
  {
   "cell_type": "code",
   "execution_count": 21,
   "metadata": {},
   "outputs": [
    {
     "name": "stdout",
     "output_type": "stream",
     "text": [
      "Variable                       Type        Data/Info\n",
      "----------------------------------------------------\n",
      "Gdir                           DiGraph     \n",
      "categories_reduced             dict        n=29\n",
      "collections                    module      <module 'collections' fro<...>ollections\\\\__init__.py'>\n",
      "intersect_categories_reduced   function    <function intersect_categ<...>ed at 0x0000019092EFC2F0>\n",
      "nx                             module      <module 'networkx' from '<...>\\\\networkx\\\\__init__.py'>\n",
      "pd                             module      <module 'pandas' from 'C:<...>es\\\\pandas\\\\__init__.py'>\n",
      "read_categories_list           function    <function read_categories<...>st at 0x0000019092ECFAE8>\n",
      "read_names_list                function    <function read_names_list at 0x0000019080004598>\n",
      "statistics                     module      <module 'statistics' from<...>da3\\\\lib\\\\statistics.py'>\n"
     ]
    }
   ],
   "source": [
    "%whos"
   ]
  },
  {
   "cell_type": "markdown",
   "metadata": {},
   "source": [
    "# [RQ2] Block Ranking"
   ]
  },
  {
   "cell_type": "markdown",
   "metadata": {},
   "source": [
    "Obtain a block-ranking, where the blocks are represented by the categories. In particular, we want: block_ranking = [C0, C1, C2...]\n",
    "\n",
    "Each category  corresponds to a list of nodes.\n",
    "The order of the remaining categories is given by:\n",
    "\n",
    "**distance(Co, Ci) = median(ShortestPath(Co, Ci))**"
   ]
  },
  {
   "cell_type": "markdown",
   "metadata": {},
   "source": [
    "# TEST"
   ]
  },
  {
   "cell_type": "markdown",
   "metadata": {},
   "source": [
    "## Test 1 (networkX functions)"
   ]
  },
  {
   "cell_type": "code",
   "execution_count": 264,
   "metadata": {},
   "outputs": [],
   "source": [
    "# USING shortest_path_length\n",
    "def distance_time():\n",
    "    CxCy = []\n",
    "    # Input category to make block ranking\n",
    "    source_category = 'English_footballers'\n",
    "    target_category = 'The_Football_League_players'\n",
    "\n",
    "    C0 = list(categories_reduced.get(source_category)) #C0\n",
    "    CI = list(categories_reduced.get(target_category)) #C1\n",
    "    \n",
    "    for s_value in C0[:5]:\n",
    "        for t_value in CI:\n",
    "            #if s_value != t_value:\n",
    "                try:\n",
    "                    CxCy.append(nx.shortest_path_length(Gdir, source=s_value, target=t_value))\n",
    "                except:\n",
    "                    pass\n",
    "\n",
    "    print(\"#Results:\", len(CxCy), \"Median:\", statistics.median(CxCy))\n",
    "    return statistics.median(CxCy)"
   ]
  },
  {
   "cell_type": "code",
   "execution_count": 265,
   "metadata": {
    "scrolled": true
   },
   "outputs": [
    {
     "name": "stdout",
     "output_type": "stream",
     "text": [
      "#Results: 24483 Median: 6\n"
     ]
    },
    {
     "data": {
      "text/plain": [
       "4.964930928342255"
      ]
     },
     "execution_count": 265,
     "metadata": {},
     "output_type": "execute_result"
    }
   ],
   "source": [
    "timeit.timeit(distance_time, number = 1)\n",
    "#takes 19 seconds to compare 20 values vs all values of 2 categories---> too much"
   ]
  },
  {
   "cell_type": "markdown",
   "metadata": {},
   "source": [
    "## Test 2  "
   ]
  },
  {
   "cell_type": "code",
   "execution_count": 152,
   "metadata": {},
   "outputs": [],
   "source": [
    "dic_adj = dict(Gdir.adjacency())"
   ]
  },
  {
   "cell_type": "code",
   "execution_count": 248,
   "metadata": {},
   "outputs": [],
   "source": [
    "def shortest_path_bfs(dic_adj_graph, source, destination): \n",
    "    visited = {source}\n",
    "    queue = collections.deque([(source, 0)])\n",
    "    \n",
    "    # Repeat until queue is empty\n",
    "    while queue: \n",
    "        vertex = queue.popleft()\n",
    "        # If vertex is destionation return level\n",
    "        if vertex[0] == destination:\n",
    "                return vertex[1]\n",
    "        # Add to visited and append to queue\n",
    "        for neighbour in dic_adj_graph[vertex[0]]: \n",
    "            if neighbour not in visited: \n",
    "                visited.add(neighbour) \n",
    "                queue.append((neighbour, vertex[1]+1)) "
   ]
  },
  {
   "cell_type": "code",
   "execution_count": 249,
   "metadata": {},
   "outputs": [
    {
     "name": "stdout",
     "output_type": "stream",
     "text": [
      "5\n"
     ]
    }
   ],
   "source": [
    "print(shortest_path_bfs(dic_adj, 52, 1174302))"
   ]
  },
  {
   "cell_type": "code",
   "execution_count": 250,
   "metadata": {},
   "outputs": [],
   "source": [
    "def has_path_bfs(dic_adj_graph, source, destination_list):\n",
    "    visited = {source}\n",
    "    queue = collections.deque([source])\n",
    "\n",
    "    # Repeat until queue is empty\n",
    "    while queue: \n",
    "        vertex = queue.popleft()\n",
    "        # Add to visited and append to queue\n",
    "        for neighbour in dic_adj_graph[vertex]: \n",
    "            if neighbour not in visited: \n",
    "                visited.add(neighbour) \n",
    "                queue.append(neighbour) \n",
    "    \n",
    "    return visited.intersection(destination_list)"
   ]
  },
  {
   "cell_type": "code",
   "execution_count": 251,
   "metadata": {
    "scrolled": false
   },
   "outputs": [
    {
     "name": "stdout",
     "output_type": "stream",
     "text": [
      "4896\n"
     ]
    }
   ],
   "source": [
    "target_category = 'The_Football_League_players'\n",
    "CI = list(categories_reduced.get(target_category)) #C1\n",
    "print(len(has_path_bfs(dic_adj, 52, CI)))"
   ]
  },
  {
   "cell_type": "code",
   "execution_count": 252,
   "metadata": {},
   "outputs": [],
   "source": [
    "# THIS FUNCTION IS ONLY FOR TIMING\n",
    "def distance_time_mine():\n",
    "    CxCy = []\n",
    "    # Input category to make block ranking\n",
    "    source_category = 'English_footballers'\n",
    "    target_category = 'The_Football_League_players'\n",
    "\n",
    "    C0 = list(categories_reduced.get(source_category)) #C0\n",
    "    CI = list(categories_reduced.get(target_category)) #C1\n",
    "    \n",
    "    for s_value in C0[:5]:\n",
    "        for t_value in has_path_bfs(dic_adj, s_value, set(CI[:30])):\n",
    "            CxCy.append(shortest_path_bfs(dic_adj, s_value, t_value))\n",
    "\n",
    "    print(\"#Results:\", len(CxCy), \"Median:\", statistics.median(CxCy))\n",
    "    return statistics.median(CxCy)"
   ]
  },
  {
   "cell_type": "code",
   "execution_count": 253,
   "metadata": {},
   "outputs": [
    {
     "name": "stdout",
     "output_type": "stream",
     "text": [
      "#Results: 53 Median: 6\n"
     ]
    },
    {
     "data": {
      "text/plain": [
       "17.955541841476588"
      ]
     },
     "execution_count": 253,
     "metadata": {},
     "output_type": "execute_result"
    }
   ],
   "source": [
    "timeit.timeit(distance_time_mine, number = 1)"
   ]
  },
  {
   "cell_type": "markdown",
   "metadata": {},
   "source": [
    "## Test 3"
   ]
  },
  {
   "cell_type": "code",
   "execution_count": 214,
   "metadata": {},
   "outputs": [],
   "source": [
    "#try2\n",
    "def shortest_path_bfs_list(dic_adj_graph, source, destination_list): \n",
    "    visited = {source}\n",
    "    queue = collections.deque([(source, 0)])\n",
    "    jumps_list = []\n",
    "    \n",
    "    # Repeat until queue is empty\n",
    "    while queue: \n",
    "        vertex = queue.popleft()\n",
    "        # If vertex is destionation return level\n",
    "        if vertex[0] in destination_list:\n",
    "            jumps_list.append(vertex[1])\n",
    "        # Add to visited and append to queue\n",
    "        for neighbour in dic_adj_graph[vertex[0]]: \n",
    "            if neighbour not in visited: \n",
    "                visited.add(neighbour) \n",
    "                queue.append((neighbour, vertex[1]+1)) \n",
    "    return jumps_list"
   ]
  },
  {
   "cell_type": "code",
   "execution_count": 262,
   "metadata": {},
   "outputs": [],
   "source": [
    "# THIS FUNCTION IS ONLY FOR TIMING\n",
    "def distance_time_mine2():\n",
    "    CxCy = []\n",
    "    # Input category to make block ranking\n",
    "    source_category = 'English_footballers'\n",
    "    target_category = 'The_Football_League_players'\n",
    "\n",
    "    C0 = list(categories_reduced.get(source_category)) #C0\n",
    "    CI = list(categories_reduced.get(target_category)) #C1\n",
    "    \n",
    "    for s_value in C0[:5]:\n",
    "        CxCy.extend(shortest_path_bfs_list(dic_adj, s_value, set(CI)))\n",
    "\n",
    "    print(\"#Results:\", len(CxCy), \"Median:\", statistics.median(CxCy))\n",
    "    return statistics.median(CxCy)"
   ]
  },
  {
   "cell_type": "code",
   "execution_count": 263,
   "metadata": {},
   "outputs": [
    {
     "name": "stdout",
     "output_type": "stream",
     "text": [
      "#Results: 24483 Median: 6\n"
     ]
    },
    {
     "data": {
      "text/plain": [
       "4.598324591724122"
      ]
     },
     "execution_count": 263,
     "metadata": {},
     "output_type": "execute_result"
    }
   ],
   "source": [
    "timeit.timeit(distance_time_mine2, number = 1)"
   ]
  },
  {
   "cell_type": "markdown",
   "metadata": {},
   "source": [
    "## START BLOCK RANKING"
   ]
  },
  {
   "cell_type": "code",
   "execution_count": 128,
   "metadata": {},
   "outputs": [],
   "source": [
    "def distance(C0, CI):\n",
    "    CxCy = []\n",
    "\n",
    "    C0 = list(categories_reduced.get(C0)) #C0\n",
    "    CI = list(categories_reduced.get(CI)) #C1\n",
    "    \n",
    "    for s_value in C0[:5]:\n",
    "        for t_value in CI[:20]:\n",
    "            #if s_value != t_value:\n",
    "                try:\n",
    "                    CxCy.append(nx.shortest_path_length(Gdir, source=s_value, target=t_value))\n",
    "                except:\n",
    "                    pass\n",
    "\n",
    "    return statistics.median(CxCy)"
   ]
  },
  {
   "cell_type": "code",
   "execution_count": 129,
   "metadata": {},
   "outputs": [],
   "source": [
    "C0 = 'English_footballers'\n",
    "block_ranking = [(0, C0)]\n",
    "for cat in categories_reduced.keys():\n",
    "    if cat != C0:\n",
    "        block_ranking.append((distance(C0, cat), cat))"
   ]
  },
  {
   "cell_type": "code",
   "execution_count": 130,
   "metadata": {},
   "outputs": [],
   "source": [
    "block_ranking.sort()"
   ]
  },
  {
   "cell_type": "code",
   "execution_count": 131,
   "metadata": {},
   "outputs": [
    {
     "name": "stdout",
     "output_type": "stream",
     "text": [
      "0 English_footballers\n",
      "5 Association_football_forwards\n",
      "6 Association_football_defenders\n",
      "6 Association_football_goalkeepers\n",
      "6 Association_football_midfielders\n",
      "6 British_films\n",
      "6 The_Football_League_players\n",
      "7 American_film_actors\n",
      "7 American_films\n",
      "7 American_military_personnel_of_World_War_II\n",
      "7 American_television_actors\n",
      "7 Black-and-white_films\n",
      "7 Debut_albums\n",
      "7 English-language_albums\n",
      "7 English-language_films\n",
      "7 Major_League_Baseball_pitchers\n",
      "7 People_from_New_York_City\n",
      "7 Place_of_birth_missing_(living_people)\n",
      "8 Harvard_University_alumni\n",
      "8 Indian_films\n",
      "8 Living_people\n",
      "8 Members_of_the_United_Kingdom_Parliament_for_English_constituencies\n",
      "8 Rivers_of_Romania\n",
      "8 Windows_games\n",
      "9 Year_of_birth_missing_(living_people)\n",
      "10 Asteroids_named_for_people\n",
      "10 Year_of_death_missing\n",
      "11 Year_of_birth_missing\n",
      "14 Main_Belt_asteroids\n"
     ]
    }
   ],
   "source": [
    "for i in block_ranking:\n",
    "    print(int(i[0]), i[1])"
   ]
  },
  {
   "cell_type": "code",
   "execution_count": null,
   "metadata": {},
   "outputs": [],
   "source": []
  },
  {
   "cell_type": "code",
   "execution_count": null,
   "metadata": {},
   "outputs": [],
   "source": []
  },
  {
   "cell_type": "code",
   "execution_count": null,
   "metadata": {},
   "outputs": [],
   "source": []
  },
  {
   "cell_type": "code",
   "execution_count": null,
   "metadata": {},
   "outputs": [],
   "source": []
  },
  {
   "cell_type": "code",
   "execution_count": null,
   "metadata": {},
   "outputs": [],
   "source": []
  },
  {
   "cell_type": "code",
   "execution_count": null,
   "metadata": {},
   "outputs": [],
   "source": []
  },
  {
   "cell_type": "code",
   "execution_count": null,
   "metadata": {},
   "outputs": [],
   "source": []
  }
 ],
 "metadata": {
  "kernelspec": {
   "display_name": "Python 3",
   "language": "python",
   "name": "python3"
  },
  "language_info": {
   "codemirror_mode": {
    "name": "ipython",
    "version": 3
   },
   "file_extension": ".py",
   "mimetype": "text/x-python",
   "name": "python",
   "nbconvert_exporter": "python",
   "pygments_lexer": "ipython3",
   "version": "3.6.7"
  }
 },
 "nbformat": 4,
 "nbformat_minor": 2
}
